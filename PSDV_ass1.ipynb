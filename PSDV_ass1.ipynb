{
 "cells": [
  {
   "cell_type": "code",
   "execution_count": 1,
   "metadata": {
    "id": "OOEwx0lmEA_u"
   },
   "outputs": [],
   "source": [
    "import pandas as pd\n",
    "import numpy as np\n",
    "import matplotlib.pyplot as plt\n",
    "import seaborn as sns"
   ]
  },
  {
   "cell_type": "code",
   "execution_count": 4,
   "metadata": {
    "colab": {
     "base_uri": "https://localhost:8080/",
     "height": 206
    },
    "id": "jD8PwC55E-S9",
    "outputId": "813d712b-8931-457f-f687-3cc19c9f6f84"
   },
   "outputs": [
    {
     "data": {
      "text/html": [
       "<div>\n",
       "<style scoped>\n",
       "    .dataframe tbody tr th:only-of-type {\n",
       "        vertical-align: middle;\n",
       "    }\n",
       "\n",
       "    .dataframe tbody tr th {\n",
       "        vertical-align: top;\n",
       "    }\n",
       "\n",
       "    .dataframe thead th {\n",
       "        text-align: right;\n",
       "    }\n",
       "</style>\n",
       "<table border=\"1\" class=\"dataframe\">\n",
       "  <thead>\n",
       "    <tr style=\"text-align: right;\">\n",
       "      <th></th>\n",
       "      <th>Timestamp</th>\n",
       "      <th>station</th>\n",
       "      <th>PM2.5</th>\n",
       "      <th>PM10</th>\n",
       "      <th>address</th>\n",
       "      <th>city</th>\n",
       "      <th>latitude</th>\n",
       "      <th>longitude</th>\n",
       "      <th>state</th>\n",
       "    </tr>\n",
       "  </thead>\n",
       "  <tbody>\n",
       "    <tr>\n",
       "      <th>1627456</th>\n",
       "      <td>2024-12-10</td>\n",
       "      <td>Worli, Mumbai - MPCB</td>\n",
       "      <td>54.71</td>\n",
       "      <td>124.42</td>\n",
       "      <td>89-B, NEERI Building, Dr. Annie Besant Road, W...</td>\n",
       "      <td>Mumbai</td>\n",
       "      <td>18.993616</td>\n",
       "      <td>72.812811</td>\n",
       "      <td>Maharashtra</td>\n",
       "    </tr>\n",
       "    <tr>\n",
       "      <th>1627457</th>\n",
       "      <td>2024-12-10</td>\n",
       "      <td>Yamunapuram, Bulandshahr - UPPCB</td>\n",
       "      <td>53.23</td>\n",
       "      <td>101.34</td>\n",
       "      <td>F-5, Yamunapuram, Bulandshahr, Near MMR Mall (...</td>\n",
       "      <td>Bulandshahr</td>\n",
       "      <td>28.406963</td>\n",
       "      <td>77.849831</td>\n",
       "      <td>Uttar Pradesh</td>\n",
       "    </tr>\n",
       "    <tr>\n",
       "      <th>1627458</th>\n",
       "      <td>2024-12-10</td>\n",
       "      <td>Yerramukkapalli, Kadapa - APPCB</td>\n",
       "      <td>75.00</td>\n",
       "      <td>110.75</td>\n",
       "      <td>Municipal Corporation Office Complex, Railway ...</td>\n",
       "      <td>Kadapa</td>\n",
       "      <td>14.465052</td>\n",
       "      <td>78.824187</td>\n",
       "      <td>Andhra Pradesh</td>\n",
       "    </tr>\n",
       "    <tr>\n",
       "      <th>1627459</th>\n",
       "      <td>2024-12-10</td>\n",
       "      <td>Zero Point GICI, Gangtok - SSPCB</td>\n",
       "      <td>NaN</td>\n",
       "      <td>NaN</td>\n",
       "      <td>Near State PWD Office, Zero Point, Gangtok, Si...</td>\n",
       "      <td>Gangtok</td>\n",
       "      <td>27.338530</td>\n",
       "      <td>88.614099</td>\n",
       "      <td>Sikkim</td>\n",
       "    </tr>\n",
       "    <tr>\n",
       "      <th>1627460</th>\n",
       "      <td>2024-12-10</td>\n",
       "      <td>Zoo Park, Hyderabad - TSPCB</td>\n",
       "      <td>72.83</td>\n",
       "      <td>176.48</td>\n",
       "      <td>NaN</td>\n",
       "      <td>Hyderabad</td>\n",
       "      <td>17.349694</td>\n",
       "      <td>78.451437</td>\n",
       "      <td>Telangana</td>\n",
       "    </tr>\n",
       "  </tbody>\n",
       "</table>\n",
       "</div>"
      ],
      "text/plain": [
       "          Timestamp                           station  PM2.5    PM10  \\\n",
       "1627456  2024-12-10              Worli, Mumbai - MPCB  54.71  124.42   \n",
       "1627457  2024-12-10  Yamunapuram, Bulandshahr - UPPCB  53.23  101.34   \n",
       "1627458  2024-12-10   Yerramukkapalli, Kadapa - APPCB  75.00  110.75   \n",
       "1627459  2024-12-10  Zero Point GICI, Gangtok - SSPCB    NaN     NaN   \n",
       "1627460  2024-12-10       Zoo Park, Hyderabad - TSPCB  72.83  176.48   \n",
       "\n",
       "                                                   address         city  \\\n",
       "1627456  89-B, NEERI Building, Dr. Annie Besant Road, W...       Mumbai   \n",
       "1627457  F-5, Yamunapuram, Bulandshahr, Near MMR Mall (...  Bulandshahr   \n",
       "1627458  Municipal Corporation Office Complex, Railway ...       Kadapa   \n",
       "1627459  Near State PWD Office, Zero Point, Gangtok, Si...      Gangtok   \n",
       "1627460                                                NaN    Hyderabad   \n",
       "\n",
       "          latitude  longitude           state  \n",
       "1627456  18.993616  72.812811     Maharashtra  \n",
       "1627457  28.406963  77.849831   Uttar Pradesh  \n",
       "1627458  14.465052  78.824187  Andhra Pradesh  \n",
       "1627459  27.338530  88.614099          Sikkim  \n",
       "1627460  17.349694  78.451437       Telangana  "
      ]
     },
     "execution_count": 4,
     "metadata": {},
     "output_type": "execute_result"
    }
   ],
   "source": [
    "data = pd.read_csv('Data.csv')\n",
    "data.head()\n",
    "data.tail()"
   ]
  },
  {
   "cell_type": "code",
   "execution_count": 5,
   "metadata": {
    "colab": {
     "base_uri": "https://localhost:8080/",
     "height": 206
    },
    "id": "dVdS6mgUzrUP",
    "outputId": "cd98fea1-67e1-4d4f-ec11-c51b93a0ea4c"
   },
   "outputs": [
    {
     "data": {
      "text/html": [
       "<div>\n",
       "<style scoped>\n",
       "    .dataframe tbody tr th:only-of-type {\n",
       "        vertical-align: middle;\n",
       "    }\n",
       "\n",
       "    .dataframe tbody tr th {\n",
       "        vertical-align: top;\n",
       "    }\n",
       "\n",
       "    .dataframe thead th {\n",
       "        text-align: right;\n",
       "    }\n",
       "</style>\n",
       "<table border=\"1\" class=\"dataframe\">\n",
       "  <thead>\n",
       "    <tr style=\"text-align: right;\">\n",
       "      <th></th>\n",
       "      <th>Timestamp</th>\n",
       "      <th>station</th>\n",
       "      <th>PM2.5</th>\n",
       "      <th>PM10</th>\n",
       "      <th>address</th>\n",
       "      <th>city</th>\n",
       "      <th>latitude</th>\n",
       "      <th>longitude</th>\n",
       "      <th>state</th>\n",
       "    </tr>\n",
       "  </thead>\n",
       "  <tbody>\n",
       "    <tr>\n",
       "      <th>0</th>\n",
       "      <td>2017-01-01</td>\n",
       "      <td>32Bungalows, Bhilai - CECB</td>\n",
       "      <td>NaN</td>\n",
       "      <td>NaN</td>\n",
       "      <td>Bhilai RO Office, 5, 32 Bungalows, Bhilai, Dis...</td>\n",
       "      <td>Bhilai</td>\n",
       "      <td>21.194815</td>\n",
       "      <td>81.314770</td>\n",
       "      <td>Chhattisgarh</td>\n",
       "    </tr>\n",
       "    <tr>\n",
       "      <th>1</th>\n",
       "      <td>2017-01-01</td>\n",
       "      <td>AIIMS, Raipur - CECB</td>\n",
       "      <td>NaN</td>\n",
       "      <td>NaN</td>\n",
       "      <td>All India Institute Of Medical Science, Gate N...</td>\n",
       "      <td>Raipur</td>\n",
       "      <td>21.258815</td>\n",
       "      <td>81.578979</td>\n",
       "      <td>Chhattisgarh</td>\n",
       "    </tr>\n",
       "    <tr>\n",
       "      <th>2</th>\n",
       "      <td>2017-01-01</td>\n",
       "      <td>Adarsh Nagar, Jaipur - RSPCB</td>\n",
       "      <td>NaN</td>\n",
       "      <td>NaN</td>\n",
       "      <td>Psychiatric Centre, Janta Colony, Govind Marg,...</td>\n",
       "      <td>Jaipur</td>\n",
       "      <td>26.902909</td>\n",
       "      <td>75.836858</td>\n",
       "      <td>Rajasthan</td>\n",
       "    </tr>\n",
       "    <tr>\n",
       "      <th>3</th>\n",
       "      <td>2017-01-01</td>\n",
       "      <td>Airoli, Navi Mumbai - MPCB</td>\n",
       "      <td>NaN</td>\n",
       "      <td>54.743723</td>\n",
       "      <td>NaN</td>\n",
       "      <td>Navi Mumbai</td>\n",
       "      <td>19.149400</td>\n",
       "      <td>72.998600</td>\n",
       "      <td>Maharashtra</td>\n",
       "    </tr>\n",
       "    <tr>\n",
       "      <th>4</th>\n",
       "      <td>2017-01-01</td>\n",
       "      <td>Airport Area, Indore - IMC</td>\n",
       "      <td>NaN</td>\n",
       "      <td>NaN</td>\n",
       "      <td>NaN</td>\n",
       "      <td>NaN</td>\n",
       "      <td>NaN</td>\n",
       "      <td>NaN</td>\n",
       "      <td>NaN</td>\n",
       "    </tr>\n",
       "  </tbody>\n",
       "</table>\n",
       "</div>"
      ],
      "text/plain": [
       "   Timestamp                       station  PM2.5       PM10  \\\n",
       "0 2017-01-01    32Bungalows, Bhilai - CECB    NaN        NaN   \n",
       "1 2017-01-01          AIIMS, Raipur - CECB    NaN        NaN   \n",
       "2 2017-01-01  Adarsh Nagar, Jaipur - RSPCB    NaN        NaN   \n",
       "3 2017-01-01    Airoli, Navi Mumbai - MPCB    NaN  54.743723   \n",
       "4 2017-01-01    Airport Area, Indore - IMC    NaN        NaN   \n",
       "\n",
       "                                             address         city   latitude  \\\n",
       "0  Bhilai RO Office, 5, 32 Bungalows, Bhilai, Dis...       Bhilai  21.194815   \n",
       "1  All India Institute Of Medical Science, Gate N...       Raipur  21.258815   \n",
       "2  Psychiatric Centre, Janta Colony, Govind Marg,...       Jaipur  26.902909   \n",
       "3                                                NaN  Navi Mumbai  19.149400   \n",
       "4                                                NaN          NaN        NaN   \n",
       "\n",
       "   longitude         state  \n",
       "0  81.314770  Chhattisgarh  \n",
       "1  81.578979  Chhattisgarh  \n",
       "2  75.836858     Rajasthan  \n",
       "3  72.998600   Maharashtra  \n",
       "4        NaN           NaN  "
      ]
     },
     "execution_count": 5,
     "metadata": {},
     "output_type": "execute_result"
    }
   ],
   "source": [
    "aqi=data.copy()\n",
    "aqi['Timestamp']=pd.to_datetime(aqi['Timestamp'])\n",
    "aqi.head()"
   ]
  },
  {
   "cell_type": "code",
   "execution_count": 6,
   "metadata": {
    "colab": {
     "base_uri": "https://localhost:8080/",
     "height": 206
    },
    "id": "T-uGFaSTJat8",
    "outputId": "08f4db64-9e46-43f4-92b4-eece7681cf4e"
   },
   "outputs": [
    {
     "data": {
      "text/html": [
       "<div>\n",
       "<style scoped>\n",
       "    .dataframe tbody tr th:only-of-type {\n",
       "        vertical-align: middle;\n",
       "    }\n",
       "\n",
       "    .dataframe tbody tr th {\n",
       "        vertical-align: top;\n",
       "    }\n",
       "\n",
       "    .dataframe thead th {\n",
       "        text-align: right;\n",
       "    }\n",
       "</style>\n",
       "<table border=\"1\" class=\"dataframe\">\n",
       "  <thead>\n",
       "    <tr style=\"text-align: right;\">\n",
       "      <th></th>\n",
       "      <th>State</th>\n",
       "      <th>Population</th>\n",
       "      <th>Area (km2)</th>\n",
       "    </tr>\n",
       "  </thead>\n",
       "  <tbody>\n",
       "    <tr>\n",
       "      <th>0</th>\n",
       "      <td>Uttar Pradesh</td>\n",
       "      <td>199812341</td>\n",
       "      <td>240928</td>\n",
       "    </tr>\n",
       "    <tr>\n",
       "      <th>1</th>\n",
       "      <td>Maharashtra</td>\n",
       "      <td>112374333</td>\n",
       "      <td>307713</td>\n",
       "    </tr>\n",
       "    <tr>\n",
       "      <th>2</th>\n",
       "      <td>Bihar</td>\n",
       "      <td>104099452</td>\n",
       "      <td>94163</td>\n",
       "    </tr>\n",
       "    <tr>\n",
       "      <th>3</th>\n",
       "      <td>West Bengal</td>\n",
       "      <td>91276115</td>\n",
       "      <td>88752</td>\n",
       "    </tr>\n",
       "    <tr>\n",
       "      <th>4</th>\n",
       "      <td>Madhya Pradesh</td>\n",
       "      <td>72626809</td>\n",
       "      <td>308252</td>\n",
       "    </tr>\n",
       "  </tbody>\n",
       "</table>\n",
       "</div>"
      ],
      "text/plain": [
       "            State  Population  Area (km2)\n",
       "0   Uttar Pradesh   199812341      240928\n",
       "1     Maharashtra   112374333      307713\n",
       "2           Bihar   104099452       94163\n",
       "3     West Bengal    91276115       88752\n",
       "4  Madhya Pradesh    72626809      308252"
      ]
     },
     "execution_count": 6,
     "metadata": {},
     "output_type": "execute_result"
    }
   ],
   "source": [
    "State_data = pd.read_csv('State_data.csv')\n",
    "State_data.head()"
   ]
  },
  {
   "cell_type": "code",
   "execution_count": 7,
   "metadata": {
    "colab": {
     "base_uri": "https://localhost:8080/",
     "height": 310
    },
    "id": "-OZ7p4CDJivx",
    "outputId": "66eab44a-86d8-472c-f880-b6d1c80c0933"
   },
   "outputs": [
    {
     "data": {
      "text/html": [
       "<div>\n",
       "<style scoped>\n",
       "    .dataframe tbody tr th:only-of-type {\n",
       "        vertical-align: middle;\n",
       "    }\n",
       "\n",
       "    .dataframe tbody tr th {\n",
       "        vertical-align: top;\n",
       "    }\n",
       "\n",
       "    .dataframe thead th {\n",
       "        text-align: right;\n",
       "    }\n",
       "</style>\n",
       "<table border=\"1\" class=\"dataframe\">\n",
       "  <thead>\n",
       "    <tr style=\"text-align: right;\">\n",
       "      <th></th>\n",
       "      <th>S. No.</th>\n",
       "      <th>State</th>\n",
       "      <th>City</th>\n",
       "      <th>Amount released during FY 2019-20</th>\n",
       "      <th>Amount released during FY 2020-21</th>\n",
       "      <th>Amount released during FY 2021-22</th>\n",
       "      <th>Total fund released</th>\n",
       "      <th>Utilisation as on June 2022</th>\n",
       "    </tr>\n",
       "  </thead>\n",
       "  <tbody>\n",
       "    <tr>\n",
       "      <th>0</th>\n",
       "      <td>1</td>\n",
       "      <td>Andhra Pradesh</td>\n",
       "      <td>Vijaywada</td>\n",
       "      <td>6</td>\n",
       "      <td>-</td>\n",
       "      <td>-</td>\n",
       "      <td>6.00</td>\n",
       "      <td>22.91</td>\n",
       "    </tr>\n",
       "    <tr>\n",
       "      <th>1</th>\n",
       "      <td>2</td>\n",
       "      <td>Andhra Pradesh</td>\n",
       "      <td>Guntur</td>\n",
       "      <td>0.12</td>\n",
       "      <td>0.76</td>\n",
       "      <td>1.96</td>\n",
       "      <td>2.84</td>\n",
       "      <td>22.91</td>\n",
       "    </tr>\n",
       "    <tr>\n",
       "      <th>2</th>\n",
       "      <td>3</td>\n",
       "      <td>Andhra Pradesh</td>\n",
       "      <td>Kurnool</td>\n",
       "      <td>0.06</td>\n",
       "      <td>0.76</td>\n",
       "      <td>1.36</td>\n",
       "      <td>2.18</td>\n",
       "      <td>22.91</td>\n",
       "    </tr>\n",
       "    <tr>\n",
       "      <th>3</th>\n",
       "      <td>4</td>\n",
       "      <td>Andhra Pradesh</td>\n",
       "      <td>Nellore</td>\n",
       "      <td>0.06</td>\n",
       "      <td>0.76</td>\n",
       "      <td>1.92</td>\n",
       "      <td>2.74</td>\n",
       "      <td>22.91</td>\n",
       "    </tr>\n",
       "    <tr>\n",
       "      <th>4</th>\n",
       "      <td>5</td>\n",
       "      <td>Andhra Pradesh</td>\n",
       "      <td>Visakhapatnam</td>\n",
       "      <td>0.12</td>\n",
       "      <td>-</td>\n",
       "      <td>-</td>\n",
       "      <td>0.12</td>\n",
       "      <td>22.91</td>\n",
       "    </tr>\n",
       "  </tbody>\n",
       "</table>\n",
       "</div>"
      ],
      "text/plain": [
       "   S. No.           State           City Amount released during FY 2019-20  \\\n",
       "0       1  Andhra Pradesh      Vijaywada                                 6   \n",
       "1       2  Andhra Pradesh         Guntur                              0.12   \n",
       "2       3  Andhra Pradesh        Kurnool                              0.06   \n",
       "3       4  Andhra Pradesh        Nellore                              0.06   \n",
       "4       5  Andhra Pradesh  Visakhapatnam                              0.12   \n",
       "\n",
       "  Amount released during FY 2020-21 Amount released during FY 2021-22  \\\n",
       "0                                 -                                 -   \n",
       "1                              0.76                              1.96   \n",
       "2                              0.76                              1.36   \n",
       "3                              0.76                              1.92   \n",
       "4                                 -                                 -   \n",
       "\n",
       "   Total fund released Utilisation as on June 2022  \n",
       "0                 6.00                       22.91  \n",
       "1                 2.84                       22.91  \n",
       "2                 2.18                       22.91  \n",
       "3                 2.74                       22.91  \n",
       "4                 0.12                       22.91  "
      ]
     },
     "execution_count": 7,
     "metadata": {},
     "output_type": "execute_result"
    }
   ],
   "source": [
    "NCAP_Funding = pd.read_csv('NCAP_Funding.csv')\n",
    "NCAP_Funding.head()"
   ]
  },
  {
   "cell_type": "markdown",
   "metadata": {
    "id": "yMP_Cd99Gblx"
   },
   "source": [
    "# Spatial aggregation. [4 Marks]\n",
    "1.Which state (consider all stations in that state) has the highest average PM2.5 concentration across all stations and across all years?\n"
   ]
  },
  {
   "cell_type": "code",
   "execution_count": 9,
   "metadata": {
    "colab": {
     "base_uri": "https://localhost:8080/"
    },
    "id": "jGovz5toGfCp",
    "outputId": "929d94dc-cc47-4540-8638-7ef38b78fbb5"
   },
   "outputs": [
    {
     "name": "stdout",
     "output_type": "stream",
     "text": [
      "The state with the highest average PM2.5 concentration is Delhi\n"
     ]
    }
   ],
   "source": [
    "av_PM25 = data.groupby('state')['PM2.5'].mean()\n",
    "av_PM25\n",
    "max_PM25 = av_PM25.idxmax()\n",
    "print('The state with the highest average PM2.5 concentration is', max_PM25 )\n"
   ]
  },
  {
   "cell_type": "markdown",
   "metadata": {
    "id": "R3AjSCC0JKYu"
   },
   "source": [
    "2.Which state (consider all stations in that state) had the most days with hazardous PM2.5 levels (above 300 µg/m³) for the year 2023?"
   ]
  },
  {
   "cell_type": "code",
   "execution_count": 10,
   "metadata": {
    "colab": {
     "base_uri": "https://localhost:8080/"
    },
    "id": "C83mG4KPwEkc",
    "outputId": "2234c3bc-4cf1-4725-b5f2-ac210b3c0105"
   },
   "outputs": [
    {
     "name": "stdout",
     "output_type": "stream",
     "text": [
      "The state with most days with hazardous PM2.5 levels is Delhi\n"
     ]
    }
   ],
   "source": [
    "data['Timestamp'] = pd.to_datetime(data['Timestamp'])\n",
    "\n",
    "data_2023 = data[data['Timestamp'].dt.year == 2023]\n",
    "high_PM2_5 = data_2023[data_2023['PM2.5'] > 300]\n",
    "print(\"The state with most days with hazardous PM2.5 levels is\" , high_PM2_5.groupby('state')['PM2.5'].count().idxmax())\n"
   ]
  },
  {
   "cell_type": "markdown",
   "metadata": {
    "id": "4PglQoPTS8ab"
   },
   "source": [
    "3.Which state has the highest variability in PM2.5 levels across its monitoring stations in 2023? (Think how would you measure variability)\n"
   ]
  },
  {
   "cell_type": "code",
   "execution_count": 13,
   "metadata": {
    "colab": {
     "base_uri": "https://localhost:8080/"
    },
    "id": "dGmeze0BTKTm",
    "outputId": "079ee395-c10f-430f-c772-fcb78359d81a"
   },
   "outputs": [
    {
     "name": "stdout",
     "output_type": "stream",
     "text": [
      "The state with the highest variability in PM2.5 levels is Delhi\n"
     ]
    }
   ],
   "source": [
    "data_2023.groupby('state')['PM2.5'].std()\n",
    "print(\"The state with the highest variability in PM2.5 levels is\", data_2023.groupby('state')['PM2.5'].std().idxmax())"
   ]
  },
  {
   "cell_type": "markdown",
   "metadata": {
    "id": "B0oNoNPXUWpW"
   },
   "source": [
    "4.Which state has the lowest average PM2.5 levels during the Covid period (The year 2020-2021 both years inclusive)?\n",
    "\n"
   ]
  },
  {
   "cell_type": "code",
   "execution_count": 14,
   "metadata": {
    "colab": {
     "base_uri": "https://localhost:8080/"
    },
    "id": "51Ex6oz5UbOL",
    "outputId": "20eaf8e2-3b1d-4b98-c125-0bc3e4077e65"
   },
   "outputs": [
    {
     "name": "stdout",
     "output_type": "stream",
     "text": [
      "The state with the lowest average PM2.5 levels during the Covid period is Mizoram\n"
     ]
    }
   ],
   "source": [
    "data_20_21 = data[(data['Timestamp'].dt.year >= 2020) & (data['Timestamp'].dt.year <= 2021)]\n",
    "print(\"The state with the lowest average PM2.5 levels during the Covid period is\", data_20_21.groupby('state')['PM2.5'].mean().idxmin())"
   ]
  },
  {
   "cell_type": "markdown",
   "metadata": {
    "id": "33bXfYOvVagY"
   },
   "source": [
    "# Temporal Aggregation [3 Marks]\n",
    "\n",
    "1.Report the station that recorded the highest value of PM 2.5 for the month Aug of 2020.\n"
   ]
  },
  {
   "cell_type": "code",
   "execution_count": 15,
   "metadata": {
    "colab": {
     "base_uri": "https://localhost:8080/"
    },
    "id": "lWkfXRblVh6Y",
    "outputId": "5df856b7-8eaf-41e6-a863-a47a8e59fcd4"
   },
   "outputs": [
    {
     "name": "stdout",
     "output_type": "stream",
     "text": [
      "Station with highest PM2.5 in Aug 2020 is : ['Lal Bahadur Shastri Nagar, Kalaburagi - KSPCB']\n"
     ]
    }
   ],
   "source": [
    "data_aug20 = data[(data['Timestamp'].dt.year == 2020) & (data['Timestamp'].dt.month == 8)]\n",
    "data_aug20\n",
    "\n",
    "max_PM25_value = data_aug20['PM2.5'].max()\n",
    "max_PM25_stations = data_aug20[data_aug20['PM2.5'] == max_PM25_value]['station'].unique()\n",
    "print(\"Station with highest PM2.5 in Aug 2020 is :\", max_PM25_stations)"
   ]
  },
  {
   "cell_type": "markdown",
   "metadata": {
    "id": "3xCwphj9aq3J"
   },
   "source": [
    "2.For the year 2018, calculate the average PM2.5 concentration for each season (Seasons being Winter: December-February, Summer: March-May, and Monsoon: June-September) for stations Lal Bahadur Shastri Nagar, Kalaburagi - KSPCB. Identifying the season with the highest pollution.\n",
    "[Thought Question] Can you suggest some potential factors on why certain seasons are generally more polluted than others?\n"
   ]
  },
  {
   "cell_type": "code",
   "execution_count": null,
   "metadata": {
    "colab": {
     "base_uri": "https://localhost:8080/"
    },
    "id": "XrRg4IiutoqN",
    "outputId": "b8ac170e-1248-4419-a5d1-658d3c1c7879"
   },
   "outputs": [],
   "source": [
    "Temp_Agg_win=aqi.loc[aqi['station'].isin(['Lal Bahadur Shastri Nagar, Kalaburagi - KSPCB']) & ((aqi['Timestamp'].dt.month==12) | (aqi['Timestamp'].dt.month<=2)) & (aqi['Timestamp'].dt.year==2018)]\n",
    "Temp_Agg_sum=aqi.loc[aqi['station'].isin(['Lal Bahadur Shastri Nagar, Kalaburagi - KSPCB']) & ((aqi['Timestamp'].dt.month>=3) & (aqi['Timestamp'].dt.month<=5)) & (aqi['Timestamp'].dt.year==2018)]\n",
    "Temp_Agg_mon=aqi.loc[aqi['station'].isin(['Lal Bahadur Shastri Nagar, Kalaburagi - KSPCB']) & ((aqi['Timestamp'].dt.month>=6) & (aqi['Timestamp'].dt.month<=9)) & (aqi['Timestamp'].dt.year==2018)]\n",
    "Temp_Agg_wm=Temp_Agg_win['PM2.5'].mean()\n",
    "Temp_Agg_sm=Temp_Agg_sum['PM2.5'].mean()\n",
    "Temp_Agg_mm=Temp_Agg_mon['PM2.5'].mean()\n",
    "Temporal_Aggregation2_sum\n",
    "print(\"Winter\",Temp_Agg_wm)\n",
    "print(\"Summer\",Temp_Agg_sm)\n",
    "print(\"Monsoon\",Temp_Agg_mm)\n",
    "\n"
   ]
  },
  {
   "cell_type": "markdown",
   "metadata": {
    "id": "vT2lamMCWYkU"
   },
   "source": [
    "Winter has the highest pollution (67.49 PM2.5) because cold air traps pollutants close to the ground, and increased heating and vehicle emissions add to the problem but during monsoon (34.42 PM2.5) is lower due to rain cleaning the air."
   ]
  },
  {
   "cell_type": "markdown",
   "metadata": {
    "id": "_h-vds_uycwa"
   },
   "source": [
    "3.Compare the average PM2.5 levels during weekends and weekdays for the station Lal Bahadur Shastri Nagar, Kalaburagi - KSPCB over the year 2021. Create a plot to show these trends Steps:\n",
    "Calculate the monthly average PM2.5 for weekdays and weekends separately\n",
    "X-axis: Months (January to December).\n",
    "Y-axis: Average PM2.5 levels.\n",
    "Use two lines: one for the monthly average PM2.5 levels on weekdays and one for weekends.\n",
    "\n"
   ]
  },
  {
   "cell_type": "code",
   "execution_count": null,
   "metadata": {
    "colab": {
     "base_uri": "https://localhost:8080/",
     "height": 487
    },
    "id": "wO7lZ6Hg9drh",
    "outputId": "983b73db-bcb5-41c3-9b87-cbb4528028cb"
   },
   "outputs": [],
   "source": [
    "\n",
    "data['Timestamp'] = pd.to_datetime(data['Timestamp'])\n",
    "\n",
    "pm_2021 = data[data['Timestamp'].dt.year == 2021]\n",
    "\n",
    "station_name = 'Lal Bahadur Shastri Nagar, Kalaburagi - KSPCB'\n",
    "\n",
    "weekends_2021 = pm_2021[pm_2021['Timestamp'].dt.dayofweek >= 5]\n",
    "weekdays_2021 = pm_2021[pm_2021['Timestamp'].dt.dayofweek < 5]\n",
    "\n",
    "weekends_kala = weekends_2021[weekends_2021['station'] == station_name]\n",
    "weekdays_kala = weekdays_2021[weekdays_2021['station'] == station_name]\n",
    "\n",
    "monthly_avg_weekends = weekends_kala.groupby(weekends_kala['Timestamp'].dt.month)['PM2.5'].mean()\n",
    "monthly_avg_weekdays = weekdays_kala.groupby(weekdays_kala['Timestamp'].dt.month)['PM2.5'].mean()\n",
    "\n",
    "plt.figure(figsize=(10, 5))\n",
    "plt.plot(monthly_avg_weekdays.index, monthly_avg_weekdays, marker='o', linestyle='-', color='blue', label=\"Weekdays\")\n",
    "plt.plot(monthly_avg_weekends.index, monthly_avg_weekends, marker='o', linestyle='--', color='red', label=\"Weekends\")\n",
    "\n",
    "plt.xlabel(\"Month\")\n",
    "plt.ylabel(\"Average PM2.5 Levels\")\n",
    "plt.title(\"Monthly Average PM2.5 Levels (Weekdays vs Weekends) in 2021\")\n",
    "plt.xticks(range(1, 13), [\"Jan\", \"Feb\", \"Mar\", \"Apr\", \"May\", \"Jun\", \"Jul\", \"Aug\", \"Sep\", \"Oct\", \"Nov\", \"Dec\"])\n",
    "plt.legend()\n",
    "plt.grid(True)\n",
    "plt.show()\n"
   ]
  },
  {
   "cell_type": "markdown",
   "metadata": {
    "id": "BSSxWaUC-cl9"
   },
   "source": [
    "# Spatio-temporal aggregation [3 marks]\n",
    "1.For each state, calculate the percentage increase or decrease in PM2.5 levels during monsoon months (June to September) compared to summer months (March to May). Which state has the most difference (increase or decrease) for the year 2022?\n"
   ]
  },
  {
   "cell_type": "code",
   "execution_count": null,
   "metadata": {
    "colab": {
     "base_uri": "https://localhost:8080/"
    },
    "id": "UfDR4yBd-kzR",
    "outputId": "1821f4c4-be76-4f1d-a6ae-af95df5a60b2"
   },
   "outputs": [],
   "source": [
    "pm_2022 = data[(data['Timestamp'].dt.year == 2022)]\n",
    "summer_22 = pm_2022[(pm_2022['Timestamp'].dt.month >= 3) & (pm_2022['Timestamp'].dt.month <= 5)]\n",
    "monsoon_22 = pm_2022[(pm_2022['Timestamp'].dt.month >= 6) & (pm_2022['Timestamp'].dt.month <= 9)]\n",
    "\n",
    "pm_monsoon_22 = monsoon_22.groupby('state')['PM2.5'].mean()\n",
    "pm_summer_22 = summer_22.groupby('state')['PM2.5'].mean()\n",
    "\n",
    "pm_2022 = data[(data['Timestamp'].dt.year == 2022)]\n",
    "summer_22 = pm_2022[(pm_2022['Timestamp'].dt.month >= 3) & (pm_2022['Timestamp'].dt.month <= 5)]\n",
    "monsoon_22 = pm_2022[(pm_2022['Timestamp'].dt.month >= 6) & (pm_2022['Timestamp'].dt.month <= 9)]\n",
    "\n",
    "pm_monsoon_22 = monsoon_22.groupby('state')['PM2.5'].mean()\n",
    "pm_summer_22 = summer_22.groupby('state')['PM2.5'].mean()\n",
    "\n",
    "per_incr = abs((pm_monsoon_22 - pm_summer_22) / pm_summer_22 )*100\n",
    "per_incr_max = per_incr.idxmax()\n",
    "print(\"The state with most  percentage increase or decrease in PM2.5 levels during monsoon months (June to September) compared to summer months (March to May) is \", per_incr_max)"
   ]
  },
  {
   "cell_type": "markdown",
   "metadata": {
    "id": "2WUSsqc8AoXi"
   },
   "source": [
    "2.Plot the average PM2.5 levels for Delhi across each season (Winter: December-February, Summer: March-May, Monsoon: June-September) from 2017 to 2023. What seasonal variation, if any, can you observe in pollution levels?\n"
   ]
  },
  {
   "cell_type": "code",
   "execution_count": null,
   "metadata": {
    "colab": {
     "base_uri": "https://localhost:8080/",
     "height": 509
    },
    "id": "oULVHf2ZA4b0",
    "outputId": "d0ae285c-ea58-40a1-d205-c024af7fea82"
   },
   "outputs": [],
   "source": [
    "data_copy1 = data.copy()\n",
    "data_copy1_filtered = data_copy1[(data_copy1['Timestamp'].dt.year >= 2017) & (data_copy1['Timestamp'].dt.year <= 2023)]\n",
    "Delhi_data = data_copy1_filtered[data_copy1_filtered['state'] == 'Delhi'].copy()\n",
    "Delhi_data['Timestamp'] = pd.to_datetime(Delhi_data['Timestamp'], errors='coerce')\n",
    "\n",
    "delhi_summer = Delhi_data[(Delhi_data['Timestamp'].dt.month >= 3) & (Delhi_data['Timestamp'].dt.month <= 5)]\n",
    "delhi_monsoon = Delhi_data[(Delhi_data['Timestamp'].dt.month >= 6) & (Delhi_data['Timestamp'].dt.month <= 9)]\n",
    "delhi_winter = Delhi_data[(Delhi_data['Timestamp'].dt.month == 12) | (Delhi_data['Timestamp'].dt.month <= 2)]\n",
    "\n",
    "delhi_summer_pm = delhi_summer.groupby(delhi_summer['Timestamp'].dt.year)['PM2.5'].mean()\n",
    "delhi_monsoon_pm = delhi_monsoon.groupby(delhi_monsoon['Timestamp'].dt.year)['PM2.5'].mean()\n",
    "delhi_winter_pm = delhi_winter.groupby(delhi_winter['Timestamp'].dt.year)['PM2.5'].mean()\n",
    "\n",
    "plt.plot(delhi_summer_pm.index, delhi_summer_pm, marker='o', linestyle='-', color='blue', label=\"Summer\")\n",
    "plt.plot(delhi_monsoon_pm.index, delhi_monsoon_pm, marker='o', linestyle='-.', color='red', label=\"Monsoon\")\n",
    "plt.plot(delhi_winter_pm.index, delhi_winter_pm, marker='o', linestyle='--', color='green', label=\"Winter\")\n",
    "plt.legend()\n",
    "plt.xlabel(\"Year\")\n",
    "plt.ylabel(\"Average PM2.5 Levels\")\n",
    "plt.title(\"Average PM2.5 Levels for Delhi Across Seasons (2017-2023)\")\n",
    "plt.grid(True)\n",
    "plt.show()\n",
    "\n",
    "print(\"We can observe that during the winters the pollution level is maximum and around 4X more than that during monsoon while summers are more polluted than monsoons but significantly less than winters.\")\n"
   ]
  },
  {
   "cell_type": "markdown",
   "metadata": {
    "id": "s1g9AHsvMj39"
   },
   "source": [
    "3.Plot a time-series graph comparing Delhi’s PM2.5 levels with Mumbai’s from 2015 to 2023. Which city had more fluctuations? (Hint: Think what fluctuation means)\n",
    "\n"
   ]
  },
  {
   "cell_type": "code",
   "execution_count": null,
   "metadata": {
    "colab": {
     "base_uri": "https://localhost:8080/",
     "height": 524
    },
    "id": "Ypb45c4dMuHE",
    "outputId": "0a70b3cf-43fe-40fc-dc20-226c00ebc553"
   },
   "outputs": [],
   "source": [
    "mumbai_data = data_copy1_filtered[data_copy1_filtered['city'] == 'Mumbai'].copy()\n",
    "mumbai_data_pm = mumbai_data.groupby(mumbai_data['Timestamp'].dt.year)['PM2.5'].mean()\n",
    "delhi_data_pm = Delhi_data.groupby(Delhi_data['Timestamp'].dt.year)['PM2.5'].mean()\n",
    "print(\"The standard deviation of PM2.5 values in Delhi from year 2017 to 2023 is \", Delhi_data['PM2.5'].std())\n",
    "print(\"The standard deviation of PM2.5 values in Mumbai from year 2017 to 2023 is \", mumbai_data['PM2.5'].std())\n",
    "print(\"So it is pretty clear that Delhi has more fluctuations than Mumbai.\")\n",
    "plt.plot(mumbai_data_pm.index, mumbai_data_pm, marker='o', linestyle='-', color='blue', label=\"Mumbai\")\n",
    "plt.plot(delhi_data_pm.index, delhi_data_pm, marker='o', linestyle='-', color='red', label=\"Delhi\")\n",
    "plt.legend()\n",
    "plt.xlabel(\"Year\")\n",
    "plt.ylabel(\"PM2.5 Levels\")\n",
    "plt.title(\"Delhi's PM2.5 Levels vs Mumbai's from 2017 to 2023\")\n",
    "plt.grid(True)\n",
    "plt.show()\n"
   ]
  },
  {
   "cell_type": "markdown",
   "metadata": {
    "id": "PCx6ugT0IIDz"
   },
   "source": [
    "# Population-Based\n",
    "\n",
    "1.Which state in India has the highest number of monitoring stations relative to its population?"
   ]
  },
  {
   "cell_type": "code",
   "execution_count": null,
   "metadata": {
    "colab": {
     "base_uri": "https://localhost:8080/"
    },
    "id": "Fkq1r4J3INek",
    "outputId": "16f8295b-8f85-4e4d-a7e6-a488c25712ce"
   },
   "outputs": [],
   "source": [
    "state=pd.read_csv('State_data.csv')\n",
    "Population_based1 = aqi.groupby('state')['station'].nunique().reset_index(name='total_stations')\n",
    "state_population = state[['State', 'Population']]\n",
    "Population_based1 = pd.merge(Population_based1, state_population, right_on='State',left_on='state')\n",
    "Population_based1['stations_per_capita'] = Population_based1['total_stations'] / Population_based1['Population']\n",
    "print(Population_based1.loc[Population_based1['stations_per_capita'].idxmax(), 'state']\n",
    ",\"has the highest number of monitoring stations relative to its population\")"
   ]
  },
  {
   "cell_type": "markdown",
   "metadata": {
    "id": "MYeS63qKI1cP"
   },
   "source": [
    "2.Plot a bar chart showing the top 5 most polluted states in terms of per capita PM2.5 exposure in 2023."
   ]
  },
  {
   "cell_type": "code",
   "execution_count": null,
   "metadata": {
    "colab": {
     "base_uri": "https://localhost:8080/",
     "height": 487
    },
    "id": "ztm0hMk9I08R",
    "outputId": "85bfb011-b38c-464a-cda5-b43e77e4b036"
   },
   "outputs": [],
   "source": [
    "Population_base2=aqi.loc[aqi['Timestamp'].dt.year==2023]\n",
    "Population_base2=Population_base2.groupby('state')['PM2.5'].mean().reset_index()\n",
    "Population_base2.rename(columns={'state':'State'},inplace=True)\n",
    "Population_base2=pd.merge(Population_base2,state,on='State',how='left')\n",
    "Population_base2['Pollution_per_capita']=Population_base2['PM2.5']/Population_base2['Population']\n",
    "Population_base2=Population_base2.sort_values(by='Pollution_per_capita',ascending=False)\n",
    "plt.bar(Population_base2['State'].head(),Population_base2['Pollution_per_capita'].head())\n",
    "plt.xlabel('State')\n",
    "plt.ylabel('Polltion per capita with respect to PM2.5 levels')\n",
    "plt.title('Top 5 most polluted states in terms of per capita PM2.5 exposure in 2023')\n",
    "plt.grid(True,axis='y')\n",
    "plt.show()"
   ]
  },
  {
   "cell_type": "markdown",
   "metadata": {
    "id": "P5q9yEB1JJpK"
   },
   "source": [
    "Plot the relationship between population density and average PM2.5 concentration for each state. What conclusion can you draw about the correlation between population density and pollution?\n",
    "\n",
    "X-axis: Population density (people per square kilometer).\n",
    "\n",
    "Y-axis: Average PM2.5 concentration.\n",
    "\n",
    "Use a scatter plot to show the relationship, where each point represents a state."
   ]
  },
  {
   "cell_type": "code",
   "execution_count": null,
   "metadata": {
    "colab": {
     "base_uri": "https://localhost:8080/",
     "height": 509
    },
    "id": "nzx0LuztJTb1",
    "outputId": "537dcc3b-65a4-4503-b4b1-8823b01dec54"
   },
   "outputs": [],
   "source": [
    "Population_based3=aqi.groupby('state')['PM2.5'].mean()\n",
    "Population_based3=pd.DataFrame(Population_based3)\n",
    "Population_based3=Population_based3.reset_index()\n",
    "Population_based3=pd.merge(Population_based3,state,left_on='state',right_on='State')\n",
    "Population_based3['Population Density']=Population_based3['Population']/Population_based3['Area (km2)']\n",
    "plt.scatter(Population_based3['Population Density'],Population_based3['PM2.5'])\n",
    "plt.xlabel('Population Density')\n",
    "plt.ylabel('Average PM2.5 Concentration')\n",
    "plt.title('Relationship between Population Density and Average PM2.5 Concentration')\n",
    "plt.grid()\n",
    "plt.show()\n",
    "print(\" While some highly populated areas show high pollution levels, many low-density areas also have significant pollution, indicating other contributing factors like industrial activity, geography, or weather conditions also affect the pollution level.\")"
   ]
  },
  {
   "cell_type": "markdown",
   "metadata": {
    "id": "XEhCShM-Q8QO"
   },
   "source": [
    "# Area Based [3 Marks]\n",
    "1.Which state has the highest PM2.5 concentration per square kilometer? Plot the pollution levels for all states relative to their area.\n",
    "X-axis: States.\n",
    "Y-axis: PM2.5 concentration per square kilometer.\n",
    "Use a bar plot where each bar represents a state, and the height shows PM2.5 per sq km.\n"
   ]
  },
  {
   "cell_type": "code",
   "execution_count": null,
   "metadata": {
    "colab": {
     "base_uri": "https://localhost:8080/",
     "height": 614
    },
    "id": "QgL9V_uXRCS0",
    "outputId": "99ecaa35-4d89-48b8-dd77-32a247392317"
   },
   "outputs": [],
   "source": [
    "State_data.rename(columns={'State': 'state'}, inplace=True)\n",
    "State_data.head()\n",
    "\n",
    "merged_data = pd.merge(data, State_data, on='state')\n",
    "\n",
    "state_pm_avg = merged_data.groupby('state')['PM2.5'].mean()\n",
    "\n",
    "# print(state_pm_avg)\n",
    "\n",
    "av_pm = state_pm_avg / merged_data.groupby('state')['Area (km2)'].first()\n",
    "# print(av_pm)\n",
    "\n",
    "av_pm_max = av_pm.idxmax()\n",
    "print(\"The state with the highest PM2.5 concentration per square kilometer is\", av_pm_max)\n",
    "\n",
    "plt.bar(av_pm.index, av_pm)\n",
    "plt.xlabel('State')\n",
    "plt.ylabel('PM2.5 concentration per square kilometer')\n",
    "plt.title('PM2.5 concentration per square kilometer for all states')\n",
    "plt.xticks(rotation=90)\n",
    "plt.show()\n",
    "\n",
    "\n",
    "\n"
   ]
  },
  {
   "cell_type": "markdown",
   "metadata": {
    "id": "XNX4xqTMlfLz"
   },
   "source": [
    "2.Compare the total number of monitoring stations per square kilometer in each state. Identify the state with the highest density of monitoring stations relative to its area. Show a bar plot where each bar represents a state, and the height shows the number of monitoring stations per square kilometer.\n"
   ]
  },
  {
   "cell_type": "code",
   "execution_count": null,
   "metadata": {
    "colab": {
     "base_uri": "https://localhost:8080/",
     "height": 707
    },
    "id": "ajwIW-aolzAN",
    "outputId": "8a7a2fbc-ad29-40fe-ba2b-f361da36facb"
   },
   "outputs": [],
   "source": [
    "data_stations = data.groupby('state')['station'].nunique().reset_index()\n",
    "\n",
    "stations_merged = pd.merge(data_stations, State_data, on='state')\n",
    "\n",
    "stations_merged['stations_per_sq_km'] = stations_merged['station'] / stations_merged['Area (km2)']\n",
    "\n",
    "max_stations_state = stations_merged.loc[stations_merged['stations_per_sq_km'].idxmax(), 'state']\n",
    "print(\"The state with the highest density of monitoring stations is:\", max_stations_state)\n",
    "\n",
    "plt.figure(figsize=(12, 6))\n",
    "plt.bar(stations_merged['state'], stations_merged['stations_per_sq_km'])\n",
    "\n",
    "plt.title('Density of Monitoring Stations per Square Kilometer by State')\n",
    "plt.xlabel('State')\n",
    "plt.ylabel('Stations per km²')\n",
    "plt.xticks(rotation=90)\n",
    "plt.grid(axis='y', linestyle='--')\n",
    "plt.show()\n"
   ]
  },
  {
   "cell_type": "markdown",
   "metadata": {
    "id": "w9ZJ2tufqyFe"
   },
   "source": [
    "3.Compare the average PM2.5 levels between Maharashtra and Madhya Pradesh over the year 2021. Given that both states have similar area sizes but different population densities, analyze how population density impacts pollution levels in these two states.\n"
   ]
  },
  {
   "cell_type": "code",
   "execution_count": null,
   "metadata": {
    "colab": {
     "base_uri": "https://localhost:8080/"
    },
    "id": "mFkjy1EerG7Z",
    "outputId": "4ce9c948-8971-40af-d652-6f1aac7df7e9"
   },
   "outputs": [],
   "source": [
    "data['Timestamp'] = pd.to_datetime(data['Timestamp'])\n",
    "\n",
    "data_2021 = data[data['Timestamp'].dt.year == 2021]\n",
    "\n",
    "merged_data_2021 = pd.merge(data_2021, State_data, on='state')\n",
    "\n",
    "data_2021_mh = data_2021[data_2021['state'] == 'Maharashtra']\n",
    "data_2021_mp = data_2021[data_2021['state'] == 'Madhya Pradesh']\n",
    "\n",
    "av_mh = data_2021_mh['PM2.5'].mean()\n",
    "av_mp = data_2021_mp['PM2.5'].mean()\n",
    "\n",
    "print(\"The average PM2.5 value for Maharashtra is\", av_mh)\n",
    "print(\"The average PM2.5 value for Madhya Pradesh is\", av_mp)\n",
    "print()\n",
    "\n",
    "state_population = State_data.set_index('state')['Population']\n",
    "av_pop_pm_mh = av_mh / state_population['Maharashtra']\n",
    "av_pop_pm_mp = av_mp / state_population['Madhya Pradesh']\n",
    "\n",
    "# print(\"The average PM2.5 value per capita for Maharashtra is\", av_pop_pm_mh)\n",
    "# print(\"The average PM2.5 value per capita for Madhya Pradesh is\", av_pop_pm_mp)\n",
    "av_pop_pm_mh_million = (av_mh / state_population['Maharashtra']) * 1e6\n",
    "av_pop_pm_mp_million = (av_mp / state_population['Madhya Pradesh']) * 1e6\n",
    "\n",
    "print(\"The average PM2.5 value per million people for Maharashtra is\", av_pop_pm_mh_million)\n",
    "print(\"The average PM2.5 value per million people for Madhya Pradesh is\", av_pop_pm_mp_million)\n",
    "\n",
    "print(\"As we can see, despite both states having similar pm2.5 value and similar area the difference in pm values per capita is quite significant.\")\n",
    "print(f\"Per capita PM2.5 value of Madhya Pradesh is {round((((av_pop_pm_mp_million - av_pop_pm_mh_million) / av_pop_pm_mh_million) * 100),2)}% more than Maharashtra.\")\n"
   ]
  },
  {
   "cell_type": "markdown",
   "metadata": {
    "id": "raRO_ADEJ9ON"
   },
   "source": [
    "# Funding Based\n",
    "\n",
    "1.Compare the average PM2.5 levels between states that received NCAP funding and those that did not in 2021."
   ]
  },
  {
   "cell_type": "code",
   "execution_count": null,
   "metadata": {
    "colab": {
     "base_uri": "https://localhost:8080/"
    },
    "id": "WladjLLvJ87X",
    "outputId": "81619de7-f146-4029-e422-49fd2d117b55"
   },
   "outputs": [],
   "source": [
    "funds=pd.read_csv('NCAP_Funding.csv')\n",
    "Funding_base1 = funds.groupby('State')['Amount released during FY 2021-22'].apply(lambda x: pd.to_numeric(x, errors='coerce').sum()).reset_index()\n",
    "Funding_base1.rename(columns={'State': 'state'}, inplace=True)\n",
    "Funding_base1_nofunds=pd.merge(pd.DataFrame(aqi.loc[aqi['Timestamp'].dt.year==2021].groupby('state')['PM2.5'].mean()).reset_index(),Funding_base1.loc[Funding_base1['Amount released during FY 2021-22']==0],on='state',how='inner')\n",
    "Funding_base1_funds=pd.merge(pd.DataFrame(aqi.loc[aqi['Timestamp'].dt.year==2021].groupby('state')['PM2.5'].mean()).reset_index(),Funding_base1.loc[Funding_base1['Amount released during FY 2021-22']>0],on='state',how='inner')\n",
    "print(\"Average PM2.5 levels between states that received NCAP funding in 2021\",Funding_base1_funds['PM2.5'].mean())\n",
    "print(\"Average PM2.5 levels between states that did not receive NCAP funding in 2021\",Funding_base1_nofunds['PM2.5'].mean())"
   ]
  },
  {
   "cell_type": "markdown",
   "metadata": {
    "id": "Ny9XkXo3KS77"
   },
   "source": [
    "2.Create a time series plot showing PM2.5 levels with an increment in NCAP funding for Assam. Has an increment of the financing led to noticeable improvements in air quality?"
   ]
  },
  {
   "cell_type": "code",
   "execution_count": null,
   "metadata": {
    "colab": {
     "base_uri": "https://localhost:8080/",
     "height": 487
    },
    "id": "XH4N4MegKU45",
    "outputId": "ac806558-2f68-445e-8db2-85038ff37d50"
   },
   "outputs": [],
   "source": [
    "ffig, ax1 = plt.subplots(figsize=(10, 5))\n",
    "\n",
    "ax1.plot(annual_pm25_trend.index, annual_pm25_trend.values, 'bo-', label='Annual PM2.5 Levels (µg/m³)')\n",
    "ax1.set_xlabel('Year')\n",
    "ax1.set_ylabel('PM2.5 Levels (µg/m³)', color='blue')\n",
    "ax1.tick_params(axis='y', labelcolor='blue')\n",
    "\n",
    "ax2 = ax1.twinx()\n",
    "ax2.plot(funding_df_final.index, funding_df_final[\"Funding\"], 'ro-', label='Annual NCAP Funding (Crore INR)')\n",
    "ax2.set_ylabel('NCAP Funding (Crore INR)', color='red')\n",
    "ax2.tick_params(axis='y', labelcolor='red')\n",
    "\n",
    "ax1.legend(loc='upper left')\n",
    "ax2.legend(loc='upper right')\n",
    "\n",
    "plt.title('Annual PM2.5 Levels vs NCAP Funding in Assam (Funding Stops but PM2.5 Continues)')\n",
    "ax1.grid(True, linestyle='--', alpha=0.5)\n",
    "\n",
    "plt.show()\n"
   ]
  },
  {
   "cell_type": "markdown",
   "metadata": {
    "id": "5053DENPYn7p"
   },
   "source": [
    "After increased funding in the year 2020, the pollution level decreased a bit in the following two years but again increased in 2023. One can debate that it is because of no funding in years after 2020 but we can observe that the pollution level of 2024 is equal to that of 2022 which is minimum in 6 years."
   ]
  },
  {
   "cell_type": "markdown",
   "metadata": {
    "id": "6WiH7mVxLoU3"
   },
   "source": [
    "3.Create a scatter plot to showcase the area versus funding received by a state. Mark every state with a different color and show the legend outside the plot"
   ]
  },
  {
   "cell_type": "code",
   "execution_count": null,
   "metadata": {
    "colab": {
     "base_uri": "https://localhost:8080/",
     "height": 566
    },
    "id": "D2HDAoBoLp4X",
    "outputId": "25b860d1-e1d0-4a63-8535-faa63bebec65"
   },
   "outputs": [],
   "source": [
    "Funding_base3=funds.groupby('State')['Total fund released'].apply(lambda x: pd.to_numeric(x, errors='coerce').sum()).reset_index()\n",
    "Funding_base3=Funding_base3.reset_index()\n",
    "Funding_base3=pd.merge(Funding_base3,state,on='State',how='left')\n",
    "palette = sns.color_palette(\"Set1\", n_colors=len(Funding_base3))\n",
    "plt.figure(figsize=(10, 6))\n",
    "plt.scatter(Funding_base3[\"Area (km2)\"], Funding_base3[\"Total fund released\"],\n",
    "                      c=range(len(Funding_base3)), cmap=\"Set1\", alpha=1)\n",
    "plt.xlabel(\"State Area (km²)\")\n",
    "plt.ylabel(\"Total Fund Released (Crore INR)\")\n",
    "plt.title(\"NCAP Funding vs. State Area (Color-coded by State)\")\n",
    "plt.grid(True, linestyle='--', alpha=1)\n",
    "handles = [plt.Line2D([0], [0], marker='o', color='w', markerfacecolor=palette[i], markersize=10)\n",
    "           for i in range(len(Funding_base3))]\n",
    "\n",
    "# Create the legend with state names\n",
    "plt.legend(handles, Funding_base3[\"State\"], title=\"States\", loc=\"upper left\", bbox_to_anchor=(1.05, 1), borderaxespad=0.)\n",
    "plt.show()\n"
   ]
  },
  {
   "cell_type": "markdown",
   "metadata": {
    "id": "o2l8BgPWLzgY"
   },
   "source": [
    "# Miscellaneous Questions"
   ]
  },
  {
   "cell_type": "markdown",
   "metadata": {
    "id": "odz1ItLzL1vH"
   },
   "source": [
    "1.For the most polluted city in 2023 (highest average pollution in 2023), calculate the percentage of days with PM2.5 levels above the hazardous threshold (300 µg/m³)"
   ]
  },
  {
   "cell_type": "code",
   "execution_count": null,
   "metadata": {
    "colab": {
     "base_uri": "https://localhost:8080/"
    },
    "id": "gsZmusZLL5qe",
    "outputId": "1618686d-c4c9-4b35-d933-6652ccfe89eb"
   },
   "outputs": [],
   "source": [
    "Misc1=aqi.copy()\n",
    "data_2023['Timestamp'] = pd.to_datetime(data_2023['Timestamp'])\n",
    "data_2023=data_2023[['Timestamp','city','PM2.5']]\n",
    "Misc1_city=data_2023.groupby('city')['PM2.5'].mean().idxmax()\n",
    "data_2023=data_2023.loc[data_2023['city']==Misc1_city]\n",
    "data_2023['Timestamp']=pd.to_datetime(data_2023['Timestamp'])\n",
    "data_2023=data_2023.loc[data_2023['Timestamp'].dt.year==2023]\n",
    "data_2023=data_2023.dropna(subset=['PM2.5'])\n",
    "Misc1_haz=data_2023.loc[data_2023['PM2.5']>=300]\n",
    "print(\"For the most polluted city in the year 2023,\", Misc1_city,\n",
    "      \"the percentage of days with hazardous PM2.5 levels is,\",\n",
    "      round((len(Misc1_haz) * 100) / len(data_2023), 2), end='')\n",
    "print(\"%\")\n"
   ]
  },
  {
   "cell_type": "markdown",
   "metadata": {
    "id": "0dlBVUb9NdmN"
   },
   "source": [
    "2.Analyze the PM2.5 levels in Delhi during Diwali (October-November) and New Year compared to regular months over the 3 years (2018-2020). Do you observe any significant pollution spikes during these festivals? If spikes are observed, Can you mark these spikes using arrows?"
   ]
  },
  {
   "cell_type": "code",
   "execution_count": null,
   "metadata": {
    "colab": {
     "base_uri": "https://localhost:8080/",
     "height": 634
    },
    "id": "1htQ1T_MNfLp",
    "outputId": "35cf86a8-7c54-4ceb-d8ee-5c286994052c"
   },
   "outputs": [],
   "source": [
    "import pandas as pd\n",
    "import matplotlib.pyplot as plt\n",
    "\n",
    "df = aqi.copy()\n",
    "\n",
    "df['Timestamp'] = pd.to_datetime(df['Timestamp'])\n",
    "\n",
    "delhi_df = df[df['city'] == 'Delhi'].copy()\n",
    "\n",
    "delhi_df['Year'] = delhi_df['Timestamp'].dt.year\n",
    "delhi_df['Month'] = delhi_df['Timestamp'].dt.month\n",
    "\n",
    "diwali_months = [10, 11]\n",
    "new_year_months = [12, 1]\n",
    "\n",
    "monthly_pm25 = delhi_df.groupby(['Year', 'Month'])['PM2.5'].mean().unstack()\n",
    "\n",
    "plt.figure(figsize=(12,6))\n",
    "for year in [2018, 2019, 2020]:\n",
    "    plt.plot(monthly_pm25.columns, monthly_pm25.loc[year], marker='o', label=f\"{year}\")\n",
    "\n",
    "for year in [2018, 2019, 2020]:\n",
    "    diwali_spike = monthly_pm25.loc[year, diwali_months].max()\n",
    "    new_year_spike = monthly_pm25.loc[year, new_year_months].max()\n",
    "\n",
    "    diwali_month = monthly_pm25.loc[year, diwali_months].idxmax()\n",
    "    new_year_month = monthly_pm25.loc[year, new_year_months].idxmax()\n",
    "\n",
    "    plt.annotate('Diwali', xy=(diwali_month, diwali_spike), xytext=(diwali_month, diwali_spike + 50),\n",
    "                 arrowprops=dict(facecolor='red', arrowstyle='->'), fontsize=10, color='red')\n",
    "\n",
    "    plt.annotate('New Year', xy=(new_year_month, new_year_spike), xytext=(new_year_month, new_year_spike + 50),\n",
    "                 arrowprops=dict(facecolor='blue', arrowstyle='->'), fontsize=10, color='blue')\n",
    "\n",
    "plt.xlabel(\"Month\")\n",
    "plt.ylabel(\"PM2.5 Levels (µg/m³)\")\n",
    "plt.title(\"PM2.5 Levels in Delhi (2018-2020) - Diwali & New Year Spikes\")\n",
    "plt.xticks(range(1, 13), [\"Jan\", \"Feb\", \"Mar\", \"Apr\", \"May\", \"Jun\", \"Jul\", \"Aug\", \"Sep\", \"Oct\", \"Nov\", \"Dec\"])\n",
    "plt.legend()\n",
    "plt.grid(True, linestyle=\"--\", alpha=0.5)\n",
    "plt.show()\n"
   ]
  },
  {
   "cell_type": "markdown",
   "metadata": {
    "id": "xtCvcMIQZbW4"
   },
   "source": [
    "YES!, The pollution during festive season (november to january) is at all time high but i doubt that it's solely because of festivals as we have seen above the values during winter are generally manifolds more than that during summer and monsoon. One interesting thing is also that the values have decreased over the years;2018 to 2020."
   ]
  },
  {
   "cell_type": "markdown",
   "metadata": {
    "id": "NBf1m7ctNgOJ"
   },
   "source": [
    "3.Identify the state that received the highest NCAP funding in 2020 and determine if its air pollution levels improved significantly by 2023. Use a line graph to compare yearly average PM2.5 trends."
   ]
  },
  {
   "cell_type": "code",
   "execution_count": null,
   "metadata": {
    "colab": {
     "base_uri": "https://localhost:8080/",
     "height": 527
    },
    "id": "6hVJCArrNk77",
    "outputId": "e5a61e9c-7fe0-49e9-d3eb-966c7a310c15"
   },
   "outputs": [],
   "source": [
    "Misc3=funds.groupby('State')['Amount released during FY 2020-21'].apply(lambda x: pd.to_numeric(x, errors='coerce').sum()).reset_index()\n",
    "Misc3_city=Misc3['Amount released during FY 2020-21'].idxmax()\n",
    "print(Misc3['State'][Misc3_city])\n",
    "Misc3_plot=pd.DataFrame({\n",
    "    \"2017\" : aqi.loc[(aqi['Timestamp'].dt.year==2017) & (aqi['state']==Misc3['State'][Misc3_city])].groupby('state')['PM2.5'].mean(),\n",
    "    \"2018\" : aqi.loc[(aqi['Timestamp'].dt.year==2018) & (aqi['state']==Misc3['State'][Misc3_city])].groupby('state')['PM2.5'].mean(),\n",
    "    \"2019\" : aqi.loc[(aqi['Timestamp'].dt.year==2019) & (aqi['state']==Misc3['State'][Misc3_city])].groupby('state')['PM2.5'].mean(),\n",
    "    \"2020\" : aqi.loc[(aqi['Timestamp'].dt.year==2020) & (aqi['state']==Misc3['State'][Misc3_city])].groupby('state')['PM2.5'].mean(),\n",
    "    \"2021\" : aqi.loc[(aqi['Timestamp'].dt.year==2021) & (aqi['state']==Misc3['State'][Misc3_city])].groupby('state')['PM2.5'].mean(),\n",
    "    \"2022\" : aqi.loc[(aqi['Timestamp'].dt.year==2022) & (aqi['state']==Misc3['State'][Misc3_city])].groupby('state')['PM2.5'].mean(),\n",
    "    \"2023\" : aqi.loc[(aqi['Timestamp'].dt.year==2023) & (aqi['state']==Misc3['State'][Misc3_city])].groupby('state')['PM2.5'].mean(),\n",
    "    \"2024\" : aqi.loc[(aqi['Timestamp'].dt.year==2024) & (aqi['state']==Misc3['State'][Misc3_city])].groupby('state')['PM2.5'].mean(),\n",
    "\n",
    "})\n",
    "Misc3.fillna(0,inplace=True)\n",
    "Misc3_plot=Misc3_plot.T.reset_index()\n",
    "plt.plot(Misc3_plot['index'],Misc3_plot['Andhra Pradesh'])\n",
    "plt.xlabel(\"Year\")\n",
    "plt.ylabel(\"Average PM2.5 levels\")\n",
    "plt.title(\"Yearly Average PM2.5 Trends for Andhra Pradesh\")\n",
    "plt.show()\n",
    "print(\"Despite of recieving highest funding in 2020, the average PM2.5 values for Andhra Pradesh has increased but is still in control as compared to 2017 levels.One of the reason for increase can be end of covid and people coming to normal life again.\")"
   ]
  },
  {
   "cell_type": "markdown",
   "metadata": {
    "id": "_duFQ92n48-h"
   },
   "source": [
    "4.Draw the map of India and plot the sensor locations on the map"
   ]
  },
  {
   "cell_type": "code",
   "execution_count": null,
   "metadata": {
    "colab": {
     "base_uri": "https://localhost:8080/"
    },
    "id": "OMxjUY32-DKh",
    "outputId": "7ace52ba-f114-4bfd-9d28-d066f2180bb1"
   },
   "outputs": [],
   "source": [
    "import geopandas as gpd\n",
    "print(gpd.__version__)\n"
   ]
  },
  {
   "cell_type": "code",
   "execution_count": null,
   "metadata": {
    "colab": {
     "base_uri": "https://localhost:8080/",
     "height": 853
    },
    "id": "oVXiM28bFxHE",
    "outputId": "7e061eff-5a44-4454-daa8-e36ae9e7d1e6"
   },
   "outputs": [],
   "source": [
    "map = gpd.read_file(\"/content/india-polygon.shp\")\n",
    "map = map.to_crs(\"EPSG:4326\")\n",
    "map = map.simplify(0.01)\n",
    "\n",
    "gdf = gpd.GeoDataFrame(data, geometry=gpd.points_from_xy(data.longitude, data.latitude), crs=\"EPSG:4326\") # Ensure same CRS\n",
    "\n",
    "# Plot India map\n",
    "fig, ax = plt.subplots(figsize=(10, 10))\n",
    "map.boundary.plot(ax=ax, color=\"black\")\n",
    "\n",
    "# Plot station points\n",
    "gdf.plot(ax=ax, markersize=50, color=\"red\", alpha=0.6, edgecolor=\"black\")\n",
    "\n",
    "# Set title\n",
    "ax.set_title(\"Air Quality Monitoring Stations in India\", fontsize=12)\n",
    "\n",
    "plt.show()"
   ]
  },
  {
   "cell_type": "markdown",
   "metadata": {
    "id": "CHpWcoMya4at"
   },
   "source": [
    "## Tell us something new [1 Mark]\n",
    "Tell us something interesting from the dataset that we have not asked. Anything that intrigues you, anything that might be useful to the policymakers.\n"
   ]
  },
  {
   "cell_type": "markdown",
   "metadata": {
    "id": "3OT81PfwcVj9"
   },
   "source": [
    "Pollution Varies by Location – Some areas have severe pollution while others are cleaner, so policies should be tailored to each region.\n",
    "Missing Data in Key Areas – Some major cities lack data, possibly hiding pollution hotspots. More monitoring is needed in industrial and traffic-heavy zones."
   ]
  }
 ],
 "metadata": {
  "colab": {
   "provenance": []
  },
  "kernelspec": {
   "display_name": "Python 3 (ipykernel)",
   "language": "python",
   "name": "python3"
  },
  "language_info": {
   "codemirror_mode": {
    "name": "ipython",
    "version": 3
   },
   "file_extension": ".py",
   "mimetype": "text/x-python",
   "name": "python",
   "nbconvert_exporter": "python",
   "pygments_lexer": "ipython3",
   "version": "3.12.5"
  }
 },
 "nbformat": 4,
 "nbformat_minor": 4
}
